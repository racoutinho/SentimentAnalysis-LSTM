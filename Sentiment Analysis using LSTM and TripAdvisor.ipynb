{
 "cells": [
  {
   "cell_type": "code",
   "execution_count": 2,
   "metadata": {
    "_cell_guid": "b1076dfc-b9ad-4769-8c92-a6c4dae69d19",
    "_uuid": "8f2839f25d086af736a60e9eeb907d3b93b6e0e5",
    "trusted": true
   },
   "outputs": [
    {
     "name": "stdout",
     "output_type": "stream",
     "text": [
      "['Tripadvisor_SampleData.csv']\n"
     ]
    }
   ],
   "source": [
    "import os\n",
    "print(os.listdir(\"../input\"))\n",
    "\n",
    "import pandas as pd\n",
    "import numpy as np\n",
    "import bs4\n",
    "import re\n",
    "from unicodedata import normalize\n",
    "from nltk.corpus import stopwords\n",
    "import operator\n",
    "from keras.preprocessing import sequence\n",
    "from tqdm import tqdm_notebook, tqdm"
   ]
  },
  {
   "cell_type": "code",
   "execution_count": 3,
   "metadata": {
    "trusted": true,
    "_uuid": "61a7a6cb0920b5c79df1090b351e66a62eb535e1"
   },
   "outputs": [
    {
     "name": "stdout",
     "output_type": "stream",
     "text": [
      "[nltk_data] Downloading package stopwords to /usr/share/nltk_data...\n[nltk_data]   Package stopwords is already up-to-date!\n"
     ]
    },
    {
     "data": {
      "text/plain": [
       "True"
      ]
     },
     "execution_count": 3,
     "metadata": {},
     "output_type": "execute_result"
    }
   ],
   "source": [
    "import nltk\n",
    "nltk.download('stopwords')"
   ]
  },
  {
   "cell_type": "code",
   "execution_count": 13,
   "metadata": {
    "_cell_guid": "79c7e3d0-c299-4dcb-8224-4455121ee9b0",
    "_uuid": "d629ff2d2480ee46fbb7e2d37f6b5fab8052498a",
    "trusted": true
   },
   "outputs": [],
   "source": [
    "imdb_df = pd.read_csv(\"../input/Tripadvisor_SampleData.csv\", delimiter=',')"
   ]
  },
  {
   "cell_type": "code",
   "execution_count": null,
   "metadata": {
    "trusted": true,
    "_uuid": "0d1dfe80563264465703bc10a1aad6b6658ae006"
   },
   "outputs": [],
   "source": [
    ""
   ]
  },
  {
   "cell_type": "code",
   "execution_count": 14,
   "metadata": {
    "_uuid": "65a3026a6d3bca68a8e1dd516b011bb8147d8cf8",
    "scrolled": true,
    "trusted": true
   },
   "outputs": [
    {
     "data": {
      "text/html": [
       "<div>\n<style scoped>\n    .dataframe tbody tr th:only-of-type {\n        vertical-align: middle;\n    }\n\n    .dataframe tbody tr th {\n        vertical-align: top;\n    }\n\n    .dataframe thead th {\n        text-align: right;\n    }\n</style>\n<table border=\"1\" class=\"dataframe\">\n  <thead>\n    <tr style=\"text-align: right;\">\n      <th></th>\n      <th>content</th>\n      <th>stars</th>\n      <th>title</th>\n    </tr>\n  </thead>\n  <tbody>\n    <tr>\n      <th>0</th>\n      <td>O quarto é amplo e silencioso, com uma cama co...</td>\n      <td>1</td>\n      <td>Não recomendo</td>\n    </tr>\n    <tr>\n      <th>1</th>\n      <td>O melhor hotel das imediações. Ótimo atendimen...</td>\n      <td>4</td>\n      <td>Satisfeito</td>\n    </tr>\n    <tr>\n      <th>2</th>\n      <td>localização interessanteacesso fácil ao local ...</td>\n      <td>5</td>\n      <td>HOSPÉDAGEM</td>\n    </tr>\n    <tr>\n      <th>3</th>\n      <td>Localização central, quartos espaçosos e limpo...</td>\n      <td>2</td>\n      <td>Hospedagem seminário de contabilidade</td>\n    </tr>\n    <tr>\n      <th>4</th>\n      <td>Poderia melhorar a qualidade do cafe da manha,...</td>\n      <td>3</td>\n      <td>JÁ FOI MELHOR</td>\n    </tr>\n  </tbody>\n</table>\n</div>"
      ],
      "text/plain": [
       "                                             content                  ...                                                    title\n0  O quarto é amplo e silencioso, com uma cama co...                  ...                                            Não recomendo\n1  O melhor hotel das imediações. Ótimo atendimen...                  ...                                               Satisfeito\n2  localização interessanteacesso fácil ao local ...                  ...                                               HOSPÉDAGEM\n3  Localização central, quartos espaçosos e limpo...                  ...                    Hospedagem seminário de contabilidade\n4  Poderia melhorar a qualidade do cafe da manha,...                  ...                                            JÁ FOI MELHOR\n\n[5 rows x 3 columns]"
      ]
     },
     "execution_count": 14,
     "metadata": {},
     "output_type": "execute_result"
    }
   ],
   "source": [
    "imdb_df.head()"
   ]
  },
  {
   "cell_type": "code",
   "execution_count": null,
   "metadata": {
    "trusted": false,
    "_uuid": "01bdb4769ecb53b1df13bc571cea29b5f82a6ff5"
   },
   "outputs": [],
   "source": [
    ""
   ]
  },
  {
   "cell_type": "code",
   "execution_count": 15,
   "metadata": {
    "trusted": true,
    "_uuid": "01ef9b85d9ae71580e373d97ae2bda835d9f6cfa"
   },
   "outputs": [],
   "source": [
    "imdb_data = imdb_df.loc[(imdb_df['stars'] != '3')]\n",
    "imdb_data = imdb_data.loc[(imdb_data['stars'] != 'stars')]\n",
    "imdb_data = pd.DataFrame(imdb_data)\n",
    "\n",
    "imdb_data.loc[(imdb_data['stars'] == '1', 'stars')] = 0\n",
    "imdb_data.loc[(imdb_data['stars'] == '2', 'stars')] = 0\n",
    "\n",
    "imdb_data.loc[(imdb_data['stars'] == '4', 'stars')] = 1\n",
    "imdb_data.loc[(imdb_data['stars'] == '5', 'stars')] = 1"
   ]
  },
  {
   "cell_type": "code",
   "execution_count": 16,
   "metadata": {
    "trusted": true,
    "_uuid": "3e3c53c83c3a117bb6eb3b69023520741c45b0ea"
   },
   "outputs": [
    {
     "data": {
      "text/html": [
       "<div>\n<style scoped>\n    .dataframe tbody tr th:only-of-type {\n        vertical-align: middle;\n    }\n\n    .dataframe tbody tr th {\n        vertical-align: top;\n    }\n\n    .dataframe thead th {\n        text-align: right;\n    }\n</style>\n<table border=\"1\" class=\"dataframe\">\n  <thead>\n    <tr style=\"text-align: right;\">\n      <th></th>\n      <th>content</th>\n      <th>stars</th>\n      <th>title</th>\n    </tr>\n  </thead>\n  <tbody>\n    <tr>\n      <th>0</th>\n      <td>O quarto é amplo e silencioso, com uma cama co...</td>\n      <td>0</td>\n      <td>Não recomendo</td>\n    </tr>\n    <tr>\n      <th>1</th>\n      <td>O melhor hotel das imediações. Ótimo atendimen...</td>\n      <td>1</td>\n      <td>Satisfeito</td>\n    </tr>\n    <tr>\n      <th>2</th>\n      <td>localização interessanteacesso fácil ao local ...</td>\n      <td>1</td>\n      <td>HOSPÉDAGEM</td>\n    </tr>\n    <tr>\n      <th>3</th>\n      <td>Localização central, quartos espaçosos e limpo...</td>\n      <td>0</td>\n      <td>Hospedagem seminário de contabilidade</td>\n    </tr>\n    <tr>\n      <th>5</th>\n      <td>Boa tarde sr. Daniel,</td>\n      <td>1</td>\n      <td>Excelente Custo-Benefício com boa localização.</td>\n    </tr>\n    <tr>\n      <th>6</th>\n      <td>Boa tarde!</td>\n      <td>1</td>\n      <td>Agradável estadia em POA</td>\n    </tr>\n    <tr>\n      <th>7</th>\n      <td>Boa tarde,</td>\n      <td>1</td>\n      <td>Muito recomendável</td>\n    </tr>\n    <tr>\n      <th>8</th>\n      <td>Olá,</td>\n      <td>1</td>\n      <td>Muito bom para viagens a negócios</td>\n    </tr>\n    <tr>\n      <th>10</th>\n      <td>Por se tratar da rede Novotel, achei que fosse...</td>\n      <td>1</td>\n      <td>Ótimo atendimento</td>\n    </tr>\n    <tr>\n      <th>11</th>\n      <td>Recepcionistas carrancudos e secos sem o prepa...</td>\n      <td>1</td>\n      <td>Hotel moderno com excelente café</td>\n    </tr>\n    <tr>\n      <th>13</th>\n      <td>Quartos simples, camas confortáveis, bom chuve...</td>\n      <td>1</td>\n      <td>É como estar em casa</td>\n    </tr>\n    <tr>\n      <th>14</th>\n      <td>Frequento o Verdemar faz quase um ano e meio. ...</td>\n      <td>1</td>\n      <td>Hospedagem</td>\n    </tr>\n    <tr>\n      <th>16</th>\n      <td>Este Hotel tem uma localização privilegiada no...</td>\n      <td>1</td>\n      <td>Bom hotel para viagens comerciais</td>\n    </tr>\n    <tr>\n      <th>17</th>\n      <td>Prezado Sr. Vergilio,</td>\n      <td>1</td>\n      <td>Atendimento cordial</td>\n    </tr>\n    <tr>\n      <th>19</th>\n      <td>Prezado Sr. Abrahao,</td>\n      <td>1</td>\n      <td>Excelente atendimento</td>\n    </tr>\n    <tr>\n      <th>20</th>\n      <td>Prezada hóspede,</td>\n      <td>1</td>\n      <td>Excelente hospedagem</td>\n    </tr>\n    <tr>\n      <th>22</th>\n      <td>Prezada hóspede,</td>\n      <td>1</td>\n      <td>Atendimento diferenciado</td>\n    </tr>\n    <tr>\n      <th>23</th>\n      <td>Somente não avaliei bem, foi o acesso a intern...</td>\n      <td>1</td>\n      <td>Ambiente agradavel!</td>\n    </tr>\n    <tr>\n      <th>24</th>\n      <td>Prezada hóspede,</td>\n      <td>1</td>\n      <td>Um bom hotel, com excelente Spa.</td>\n    </tr>\n    <tr>\n      <th>25</th>\n      <td>Ambiente agradável, atendimento excelente, qua...</td>\n      <td>1</td>\n      <td>Muito bom. Excelente localização</td>\n    </tr>\n    <tr>\n      <th>26</th>\n      <td>Prezada hóspede,</td>\n      <td>1</td>\n      <td>Muito bom</td>\n    </tr>\n    <tr>\n      <th>27</th>\n      <td>O hotel é realmente muito bom. O atendimento d...</td>\n      <td>1</td>\n      <td>Excelente hotel</td>\n    </tr>\n    <tr>\n      <th>28</th>\n      <td>Hotel da rede Radisson, localizado próximo à A...</td>\n      <td>1</td>\n      <td>Parabéns Equipe Radisson Paulista!</td>\n    </tr>\n    <tr>\n      <th>29</th>\n      <td>Todas as vezes que estive no hotel fui muito b...</td>\n      <td>1</td>\n      <td>Comodidade</td>\n    </tr>\n    <tr>\n      <th>31</th>\n      <td>Não recomendo!Não recomendo!Não recomendo! Não...</td>\n      <td>1</td>\n      <td>Bom custo beneficio</td>\n    </tr>\n    <tr>\n      <th>32</th>\n      <td>Hotel localizado próximo ao centro da cidade e...</td>\n      <td>0</td>\n      <td>Decepção! Não recomendo!</td>\n    </tr>\n    <tr>\n      <th>33</th>\n      <td>O hotel é bom , cafe da manhã bom, porém as ve...</td>\n      <td>0</td>\n      <td>Decepcionante</td>\n    </tr>\n    <tr>\n      <th>34</th>\n      <td>Por fora até que é bonitinho, pelo site, o qua...</td>\n      <td>0</td>\n      <td>Péssimo, não vá. O café da manhã é horrível</td>\n    </tr>\n    <tr>\n      <th>36</th>\n      <td>hotel perto de tudo, novinho, tdos mto solicit...</td>\n      <td>1</td>\n      <td>Satisfeito</td>\n    </tr>\n    <tr>\n      <th>37</th>\n      <td>Recepcionistas podem melhorar na atenção e cor...</td>\n      <td>1</td>\n      <td>voltaremos</td>\n    </tr>\n    <tr>\n      <th>...</th>\n      <td>...</td>\n      <td>...</td>\n      <td>...</td>\n    </tr>\n    <tr>\n      <th>11119</th>\n      <td>Pousada muito tranquila com um ambiente agradá...</td>\n      <td>1</td>\n      <td>Aconchegante</td>\n    </tr>\n    <tr>\n      <th>11120</th>\n      <td>Próximo ao Mini Mundo e Lago Negro...silencios...</td>\n      <td>1</td>\n      <td>\"Preco justo\"</td>\n    </tr>\n    <tr>\n      <th>11121</th>\n      <td>Na recepção já percebemos a simpatia e o cuida...</td>\n      <td>1</td>\n      <td>Boa localização, atendimento otimo</td>\n    </tr>\n    <tr>\n      <th>11122</th>\n      <td>nota 10, pois o atendimento dos funcionários s...</td>\n      <td>1</td>\n      <td>Acolhedor</td>\n    </tr>\n    <tr>\n      <th>11123</th>\n      <td>Um ótimo lugar para se ficar . Fui com meu nam...</td>\n      <td>1</td>\n      <td>Super Recomendo!</td>\n    </tr>\n    <tr>\n      <th>11124</th>\n      <td>Excelente para quem vai turistar em Gramado. F...</td>\n      <td>1</td>\n      <td>Hotel excelente!!</td>\n    </tr>\n    <tr>\n      <th>11125</th>\n      <td>Embora seja um pouquinho afastado do centro tu...</td>\n      <td>1</td>\n      <td>Muito Bom</td>\n    </tr>\n    <tr>\n      <th>11126</th>\n      <td>Estive em Gramado agora no último feriado(15/1...</td>\n      <td>1</td>\n      <td>Ótima estadia!</td>\n    </tr>\n    <tr>\n      <th>11127</th>\n      <td>Estivemos em outubro/2016 e ficamos quatro dia...</td>\n      <td>1</td>\n      <td>Pousada aconchegante e bem localizada</td>\n    </tr>\n    <tr>\n      <th>11128</th>\n      <td>Pontos positivos: Tudo ótimo na pousada! Atend...</td>\n      <td>1</td>\n      <td>Surpreendeu</td>\n    </tr>\n    <tr>\n      <th>11129</th>\n      <td>Pousada super aconchegante, funcionários muito...</td>\n      <td>1</td>\n      <td>Excelente custo benefício!</td>\n    </tr>\n    <tr>\n      <th>11130</th>\n      <td>Pousada simples mas super aconchegante, bem lo...</td>\n      <td>1</td>\n      <td>\"Ótima localização e Aconchegante\"</td>\n    </tr>\n    <tr>\n      <th>11131</th>\n      <td>Estive hospedada na última semana de julho. Av...</td>\n      <td>1</td>\n      <td>Simpatia e cuidados com os hospedes</td>\n    </tr>\n    <tr>\n      <th>11132</th>\n      <td>Pontos positivos: localização, atendimento, es...</td>\n      <td>1</td>\n      <td>Pousada excelente</td>\n    </tr>\n    <tr>\n      <th>11134</th>\n      <td>Aspectos positivos:</td>\n      <td>1</td>\n      <td>Excelente Hotel</td>\n    </tr>\n    <tr>\n      <th>11135</th>\n      <td>Hotel de excelente qualidade, com funcionários...</td>\n      <td>1</td>\n      <td>Quem conhece não esquece!</td>\n    </tr>\n    <tr>\n      <th>11136</th>\n      <td>Ambiente familiar e aconchegante, ótima locali...</td>\n      <td>1</td>\n      <td>Ambiente acolhedor e confortável.</td>\n    </tr>\n    <tr>\n      <th>11137</th>\n      <td>Muito bem localizada, facilitando o acesso mes...</td>\n      <td>1</td>\n      <td>Pousada aconchegante</td>\n    </tr>\n    <tr>\n      <th>11138</th>\n      <td>boa localização, excelente preço, ótimo café d...</td>\n      <td>1</td>\n      <td>Otima localização e os melhores recepcionistas</td>\n    </tr>\n    <tr>\n      <th>11139</th>\n      <td>A pousada fica numa excelente localização, pró...</td>\n      <td>1</td>\n      <td>Simples e aconchegante!</td>\n    </tr>\n    <tr>\n      <th>11140</th>\n      <td>Tivemos uma estadia muito boa! Os funcionários...</td>\n      <td>1</td>\n      <td>Aconchegante</td>\n    </tr>\n    <tr>\n      <th>11141</th>\n      <td>Apesar de pequena esta Pousada está muito bem ...</td>\n      <td>1</td>\n      <td>ótimo custo benefício.</td>\n    </tr>\n    <tr>\n      <th>11142</th>\n      <td>Lugar muito tranquilo, confortável e aconchega...</td>\n      <td>1</td>\n      <td>Aconchegante e familiar</td>\n    </tr>\n    <tr>\n      <th>11144</th>\n      <td>Hotel bom. Atendimento ok. Distante do centro....</td>\n      <td>1</td>\n      <td>Hotel charmoso</td>\n    </tr>\n    <tr>\n      <th>11145</th>\n      <td>Hotel excelente;bom atendimento, quartos limpo...</td>\n      <td>1</td>\n      <td>Ótimo hotel!</td>\n    </tr>\n    <tr>\n      <th>11146</th>\n      <td>Hotel charmoso por fora, funcionários atencios...</td>\n      <td>1</td>\n      <td>Passeio maravilhoso!</td>\n    </tr>\n    <tr>\n      <th>11147</th>\n      <td>Hotel muito bom! É um pouquinho longe do centr...</td>\n      <td>1</td>\n      <td>Viagem deliciosa!</td>\n    </tr>\n    <tr>\n      <th>11148</th>\n      <td>A pousada é muito bonita, aconchegante e silen...</td>\n      <td>1</td>\n      <td>Ambiente família.</td>\n    </tr>\n    <tr>\n      <th>11149</th>\n      <td>Quarto simples, com ar cond e frigobar. Chuvei...</td>\n      <td>1</td>\n      <td>Excelente localização e atendimento!</td>\n    </tr>\n    <tr>\n      <th>11150</th>\n      <td>Ambiente familiar muito agradável, ótima local...</td>\n      <td>1</td>\n      <td>Acesso Privilegiado.</td>\n    </tr>\n  </tbody>\n</table>\n<p>9527 rows × 3 columns</p>\n</div>"
      ],
      "text/plain": [
       "                                                 content                       ...                                                                 title\n0      O quarto é amplo e silencioso, com uma cama co...                       ...                                                         Não recomendo\n1      O melhor hotel das imediações. Ótimo atendimen...                       ...                                                            Satisfeito\n2      localização interessanteacesso fácil ao local ...                       ...                                                            HOSPÉDAGEM\n3      Localização central, quartos espaçosos e limpo...                       ...                                 Hospedagem seminário de contabilidade\n5                                  Boa tarde sr. Daniel,                       ...                        Excelente Custo-Benefício com boa localização.\n6                                             Boa tarde!                       ...                                              Agradável estadia em POA\n7                                             Boa tarde,                       ...                                                    Muito recomendável\n8                                                   Olá,                       ...                                     Muito bom para viagens a negócios\n10     Por se tratar da rede Novotel, achei que fosse...                       ...                                                     Ótimo atendimento\n11     Recepcionistas carrancudos e secos sem o prepa...                       ...                                      Hotel moderno com excelente café\n13     Quartos simples, camas confortáveis, bom chuve...                       ...                                                  É como estar em casa\n14     Frequento o Verdemar faz quase um ano e meio. ...                       ...                                                            Hospedagem\n16     Este Hotel tem uma localização privilegiada no...                       ...                                     Bom hotel para viagens comerciais\n17                                 Prezado Sr. Vergilio,                       ...                                                   Atendimento cordial\n19                                  Prezado Sr. Abrahao,                       ...                                                 Excelente atendimento\n20                                      Prezada hóspede,                       ...                                                  Excelente hospedagem\n22                                      Prezada hóspede,                       ...                                              Atendimento diferenciado\n23     Somente não avaliei bem, foi o acesso a intern...                       ...                                                   Ambiente agradavel!\n24                                      Prezada hóspede,                       ...                                      Um bom hotel, com excelente Spa.\n25     Ambiente agradável, atendimento excelente, qua...                       ...                                      Muito bom. Excelente localização\n26                                      Prezada hóspede,                       ...                                                             Muito bom\n27     O hotel é realmente muito bom. O atendimento d...                       ...                                                       Excelente hotel\n28     Hotel da rede Radisson, localizado próximo à A...                       ...                                    Parabéns Equipe Radisson Paulista!\n29     Todas as vezes que estive no hotel fui muito b...                       ...                                                            Comodidade\n31     Não recomendo!Não recomendo!Não recomendo! Não...                       ...                                                   Bom custo beneficio\n32     Hotel localizado próximo ao centro da cidade e...                       ...                                              Decepção! Não recomendo!\n33     O hotel é bom , cafe da manhã bom, porém as ve...                       ...                                                        Decepcionante \n34     Por fora até que é bonitinho, pelo site, o qua...                       ...                          Péssimo, não vá. O café da manhã é horrível \n36     hotel perto de tudo, novinho, tdos mto solicit...                       ...                                                            Satisfeito\n37     Recepcionistas podem melhorar na atenção e cor...                       ...                                                            voltaremos\n...                                                  ...                       ...                                                                   ...\n11119  Pousada muito tranquila com um ambiente agradá...                       ...                                                         Aconchegante \n11120  Próximo ao Mini Mundo e Lago Negro...silencios...                       ...                                                         \"Preco justo\"\n11121  Na recepção já percebemos a simpatia e o cuida...                       ...                                    Boa localização, atendimento otimo\n11122  nota 10, pois o atendimento dos funcionários s...                       ...                                                             Acolhedor\n11123  Um ótimo lugar para se ficar . Fui com meu nam...                       ...                                                      Super Recomendo!\n11124  Excelente para quem vai turistar em Gramado. F...                       ...                                                     Hotel excelente!!\n11125  Embora seja um pouquinho afastado do centro tu...                       ...                                                             Muito Bom\n11126  Estive em Gramado agora no último feriado(15/1...                       ...                                                        Ótima estadia!\n11127  Estivemos em outubro/2016 e ficamos quatro dia...                       ...                                 Pousada aconchegante e bem localizada\n11128  Pontos positivos: Tudo ótimo na pousada! Atend...                       ...                                                           Surpreendeu\n11129  Pousada super aconchegante, funcionários muito...                       ...                                            Excelente custo benefício!\n11130  Pousada simples mas super aconchegante, bem lo...                       ...                                    \"Ótima localização e Aconchegante\"\n11131  Estive hospedada na última semana de julho. Av...                       ...                                   Simpatia e cuidados com os hospedes\n11132  Pontos positivos: localização, atendimento, es...                       ...                                                     Pousada excelente\n11134                                Aspectos positivos:                       ...                                                       Excelente Hotel\n11135  Hotel de excelente qualidade, com funcionários...                       ...                                             Quem conhece não esquece!\n11136  Ambiente familiar e aconchegante, ótima locali...                       ...                                     Ambiente acolhedor e confortável.\n11137  Muito bem localizada, facilitando o acesso mes...                       ...                                                  Pousada aconchegante\n11138  boa localização, excelente preço, ótimo café d...                       ...                        Otima localização e os melhores recepcionistas\n11139  A pousada fica numa excelente localização, pró...                       ...                                               Simples e aconchegante!\n11140  Tivemos uma estadia muito boa! Os funcionários...                       ...                                                          Aconchegante\n11141  Apesar de pequena esta Pousada está muito bem ...                       ...                                                ótimo custo benefício.\n11142  Lugar muito tranquilo, confortável e aconchega...                       ...                                               Aconchegante e familiar\n11144  Hotel bom. Atendimento ok. Distante do centro....                       ...                                                        Hotel charmoso\n11145  Hotel excelente;bom atendimento, quartos limpo...                       ...                                                          Ótimo hotel!\n11146  Hotel charmoso por fora, funcionários atencios...                       ...                                                  Passeio maravilhoso!\n11147  Hotel muito bom! É um pouquinho longe do centr...                       ...                                                     Viagem deliciosa!\n11148  A pousada é muito bonita, aconchegante e silen...                       ...                                                     Ambiente família.\n11149  Quarto simples, com ar cond e frigobar. Chuvei...                       ...                                  Excelente localização e atendimento!\n11150  Ambiente familiar muito agradável, ótima local...                       ...                                                  Acesso Privilegiado.\n\n[9527 rows x 3 columns]"
      ]
     },
     "execution_count": 16,
     "metadata": {},
     "output_type": "execute_result"
    }
   ],
   "source": [
    "imdb_data"
   ]
  },
  {
   "cell_type": "markdown",
   "metadata": {
    "_uuid": "c75452d617d8e0224f7c824f6231aabca57bc215"
   },
   "source": [
    "<h1>Processamento dos Comentários</h1>"
   ]
  },
  {
   "cell_type": "code",
   "execution_count": 17,
   "metadata": {
    "_uuid": "0272877df7652f09752558c3aa9c0e9c3d130050",
    "trusted": true
   },
   "outputs": [],
   "source": [
    "def preprocessing_data(filepath, topwords, maxlen):\n",
    "    \n",
    "    imdb_data = pd.read_csv(filepath, delimiter=',')\n",
    "    \n",
    "    imdb_data = imdb_data.loc[(imdb_data['stars'] != '3')]\n",
    "    imdb_data = imdb_data.loc[(imdb_data['stars'] != 'stars')]\n",
    "    imdb_data = pd.DataFrame(imdb_data)\n",
    "    \n",
    "    imdb_data.loc[(imdb_data['stars'] == '1', 'stars')] = 0\n",
    "    imdb_data.loc[(imdb_data['stars'] == '2', 'stars')] = 0\n",
    "\n",
    "    imdb_data.loc[(imdb_data['stars'] == '4', 'stars')] = 1\n",
    "    imdb_data.loc[(imdb_data['stars'] == '5', 'stars')] = 1\n",
    "\n",
    "    \n",
    "    reviews = []\n",
    "    \n",
    "    #pbar = tqdm_notebook(total=len(imdb_data))\n",
    "    for review in imdb_data['content']:\n",
    "        # Remover tags HTML\n",
    "        review_text = bs4.BeautifulSoup(review, 'html.parser').get_text()\n",
    "        \n",
    "        # Remover caracteres especiais, pontuacao e numeros\n",
    "        review_text = re.sub('[^a-zA-Z]', ' ', review_text)\n",
    "        \n",
    "        # Converter para caixa baixa\n",
    "        review_text = review_text.lower()\n",
    "        \n",
    "        # Vetorizar o comentário\n",
    "        review_words = review_text.split()\n",
    "        \n",
    "        # Remover stopwords\n",
    "        stops = stopwords.words('portuguese')\n",
    "        \n",
    "        meaningful_words = [word for word in review_words if not word in stops]\n",
    "        \n",
    "        reviews.append(meaningful_words)\n",
    "        #pbar.update(1)\n",
    "    \n",
    "    # Construindo dicionário de frequencia\n",
    "    freq_dict = {}\n",
    "    \n",
    "    for review in reviews:\n",
    "        for word in review:\n",
    "            if not word in freq_dict:\n",
    "                freq_dict[word] = 0\n",
    "            freq_dict[word] += 1\n",
    "    \n",
    "    # Selecionar as top-K palavras (jeito inteligente Ass: carlos)\n",
    "    sorted_tup = sorted(freq_dict.items(), key=operator.itemgetter(1), reverse=True)\n",
    "    \n",
    "    word_to_id = {}\n",
    "    cnt = topwords - 1\n",
    "    # Top-K palavras\n",
    "    for i in sorted_tup[:topwords]:\n",
    "        word_to_id[i[0]] = cnt\n",
    "        cnt -= 1\n",
    "    # Restante\n",
    "    for i in sorted_tup[topwords:]:\n",
    "        word_to_id[i[0]] = 0\n",
    "    \n",
    "    # Mapeando palavras para um id do dicionário\n",
    "    processed_data = []\n",
    "    \n",
    "    for review in reviews:\n",
    "        aux = []\n",
    "        for word in review:\n",
    "            aux.append(word_to_id[word])\n",
    "        \n",
    "        processed_data.append(aux)\n",
    "    \n",
    "    # Realizando o padding dos comentarios\n",
    "    ## importar sequence de keras.preprocessing\n",
    "    processed_data = np.asarray(processed_data)\n",
    "    processed_data = sequence.pad_sequences(processed_data, maxlen)\n",
    "    \n",
    "    sentiment = imdb_data['stars'].get_values()\n",
    "    \n",
    "    return processed_data, sentiment, word_to_id"
   ]
  },
  {
   "cell_type": "code",
   "execution_count": 19,
   "metadata": {
    "_uuid": "0cf945e49862eda8ad90894c96966dab8a5053b4",
    "trusted": true
   },
   "outputs": [],
   "source": [
    "data, target, word_to_id = preprocessing_data('../input//Tripadvisor_SampleData.csv', 5000, 100)"
   ]
  },
  {
   "cell_type": "code",
   "execution_count": 20,
   "metadata": {
    "_uuid": "5542d9aaa843875c9f7bedbcf244b9d44382923f",
    "trusted": true
   },
   "outputs": [
    {
     "data": {
      "text/plain": [
       "(array([   0,    0,    0,    0,    0,    0,    0,    0,    0,    0,    0,\n           0,    0,    0,    0,    0,    0,    0,    0,    0,    0,    0,\n           0,    0,    0,    0,    0,    0,    0,    0,    0,    0,    0,\n           0,    0,    0,    0,    0,    0,    0,    0,    0,    0,    0,\n           0,    0,    0,    0,    0,    0,    0,    0,    0,    0,    0,\n           0,    0,    0,    0,    0,    0,    0,    0,    0,    0,    0,\n           0,    0,    0,    0,    0,    0,    0,    0,    0,    0,    0,\n           0,    0,    0, 4991, 4785, 4687, 4965, 4971, 4990, 4665, 2768,\n        2628, 4580, 3015,  639,  638, 4827, 3259, 4931, 1729, 4684, 3662,\n        4694], dtype=int32), 0)"
      ]
     },
     "execution_count": 20,
     "metadata": {},
     "output_type": "execute_result"
    }
   ],
   "source": [
    "data[0], target[0]"
   ]
  },
  {
   "cell_type": "markdown",
   "metadata": {
    "_uuid": "a4431e3658d126817a3e4c1be4652cacf684991d"
   },
   "source": [
    "<h1>Criando o Modelo</h1>"
   ]
  },
  {
   "cell_type": "code",
   "execution_count": 21,
   "metadata": {
    "_uuid": "a51a0361b1981c93083ab53108422f7b3eba70f6",
    "trusted": true
   },
   "outputs": [],
   "source": [
    "from keras.models import Model\n",
    "from keras.layers import *"
   ]
  },
  {
   "cell_type": "code",
   "execution_count": 22,
   "metadata": {
    "_uuid": "039e47bcc1c5f5433954cb95327e4ad4ea2380a7",
    "trusted": true
   },
   "outputs": [
    {
     "name": "stdout",
     "output_type": "stream",
     "text": [
      "_________________________________________________________________\nLayer (type)                 Output Shape              Param #   \n=================================================================\ninput_1 (InputLayer)         (None, 100)               0         \n_________________________________________________________________\nembedding_1 (Embedding)      (None, 100, 32)           160000    \n_________________________________________________________________\ndropout_1 (Dropout)          (None, 100, 32)           0         \n_________________________________________________________________\nlstm_1 (LSTM)                (None, 100)               53200     \n_________________________________________________________________\ndropout_2 (Dropout)          (None, 100)               0         \n_________________________________________________________________\ndense_1 (Dense)              (None, 1)                 101       \n=================================================================\nTotal params: 213,301\nTrainable params: 213,301\nNon-trainable params: 0\n_________________________________________________________________\n"
     ]
    }
   ],
   "source": [
    "input_node = Input(shape=(100,))\n",
    "\n",
    "embedding = Embedding(input_dim=5000, \n",
    "                      input_length=100, \n",
    "                      output_dim=32)(input_node)\n",
    "dropout = Dropout(0.5)(embedding)\n",
    "lstm_1 = LSTM(100)(dropout)\n",
    "dropout = Dropout(0.5)(lstm_1)\n",
    "fc1 = Dense(1, activation='sigmoid')(dropout)\n",
    "\n",
    "model = Model(input_node, fc1)\n",
    "model.summary()"
   ]
  },
  {
   "cell_type": "code",
   "execution_count": 23,
   "metadata": {
    "_uuid": "1cd5b33fb47be90024b39c8c05bfd0a6afeee25d",
    "trusted": true
   },
   "outputs": [],
   "source": [
    "model.compile(loss='binary_crossentropy', optimizer='Adam',\n",
    "              metrics=['accuracy'])"
   ]
  },
  {
   "cell_type": "code",
   "execution_count": 24,
   "metadata": {
    "_uuid": "17b4d53815d4a65967a11667c6fac8a5fd6d7e65",
    "trusted": true
   },
   "outputs": [],
   "source": [
    "from sklearn.model_selection import train_test_split"
   ]
  },
  {
   "cell_type": "code",
   "execution_count": 25,
   "metadata": {
    "_uuid": "9dd1e5f39fd40f493570eefac713d9a6951f520f",
    "scrolled": true,
    "trusted": true
   },
   "outputs": [],
   "source": [
    "X_train, X_test, y_train, y_test = train_test_split(data, target, \n",
    "                                                    test_size=0.33)"
   ]
  },
  {
   "cell_type": "code",
   "execution_count": 26,
   "metadata": {
    "trusted": true,
    "_uuid": "9a6cda8a7062e40564840a7c012440f3cecb4f33"
   },
   "outputs": [
    {
     "data": {
      "text/plain": [
       "(array([1, 1, 1, ..., 1, 1, 1], dtype=object),\n array([1, 1, 1, ..., 1, 0, 1], dtype=object))"
      ]
     },
     "execution_count": 26,
     "metadata": {},
     "output_type": "execute_result"
    }
   ],
   "source": [
    "y_train, y_test"
   ]
  },
  {
   "cell_type": "code",
   "execution_count": 27,
   "metadata": {
    "_uuid": "523acdb34b50ac51d55289bc1d9dd04be635caee",
    "trusted": true
   },
   "outputs": [],
   "source": [
    "from keras.callbacks import *"
   ]
  },
  {
   "cell_type": "code",
   "execution_count": 28,
   "metadata": {
    "_uuid": "a2f26137f04671bbec8644645ed2728f4f68a62b",
    "trusted": true
   },
   "outputs": [],
   "source": [
    "early_stopping = EarlyStopping(monitor='val_loss', min_delta=1e-6, patience=3)"
   ]
  },
  {
   "cell_type": "code",
   "execution_count": 29,
   "metadata": {
    "_uuid": "683fe20b2742c3bd2a9d90263e13fcf3fbd592c7",
    "trusted": true
   },
   "outputs": [],
   "source": [
    "cb_list = [early_stopping]"
   ]
  },
  {
   "cell_type": "code",
   "execution_count": 30,
   "metadata": {
    "_uuid": "e2db4c0f0c8cc852c22f6c85cb1c6d278880206c",
    "trusted": true
   },
   "outputs": [
    {
     "name": "stdout",
     "output_type": "stream",
     "text": [
      "Train on 6383 samples, validate on 3144 samples\nEpoch 1/20\n6383/6383 [==============================] - 27s 4ms/step - loss: 0.3491 - acc: 0.9058 - val_loss: 0.3067 - val_acc: 0.9078\nEpoch 2/20\n6383/6383 [==============================] - 25s 4ms/step - loss: 0.2988 - acc: 0.9113 - val_loss: 0.2994 - val_acc: 0.9078\nEpoch 3/20\n6383/6383 [==============================] - 25s 4ms/step - loss: 0.2627 - acc: 0.9123 - val_loss: 0.3021 - val_acc: 0.9071\nEpoch 4/20\n6383/6383 [==============================] - 26s 4ms/step - loss: 0.2187 - acc: 0.9201 - val_loss: 0.3150 - val_acc: 0.9027\nEpoch 5/20\n6383/6383 [==============================] - 25s 4ms/step - loss: 0.1920 - acc: 0.9317 - val_loss: 0.3709 - val_acc: 0.9030\n"
     ]
    },
    {
     "data": {
      "text/plain": [
       "<keras.callbacks.History at 0x7f8b6682dc18>"
      ]
     },
     "execution_count": 30,
     "metadata": {},
     "output_type": "execute_result"
    }
   ],
   "source": [
    "model.fit(X_train, y_train, batch_size=64, epochs=20,\n",
    "         validation_data=(X_test, y_test), callbacks=cb_list)"
   ]
  },
  {
   "cell_type": "markdown",
   "metadata": {
    "_uuid": "699974c7ffbe925380fba093b2999a83b6d2de9b"
   },
   "source": [
    "<h2>Testar nova entrada</h2>"
   ]
  },
  {
   "cell_type": "code",
   "execution_count": 31,
   "metadata": {
    "_uuid": "45eea8ad3b08a9873739656b190e63e9ed63664e",
    "trusted": true
   },
   "outputs": [],
   "source": [
    "new_review = 'Ótima localização, com vista linda e café da manhã maravilhoso!'\n",
    "\n",
    "# Remover tags HTML\n",
    "review_text = bs4.BeautifulSoup(new_review, 'html.parser').get_text()\n",
    "# Remover caracteres especiais, pontuacao e numeros\n",
    "review_text = re.sub('[^a-zA-Z]', ' ', review_text)\n",
    "# Converter para caixa baixa\n",
    "review_text = review_text.lower()\n",
    "# Vetorizar o comentário\n",
    "review_words = review_text.split()\n",
    "# Remover stopwords\n",
    "stops = stopwords.words('portuguese')\n",
    "\n",
    "meaningful_words = [word for word in review_words if not word in stops]\n",
    "\n",
    "processed_new_reviews = []\n",
    "for word in meaningful_words:\n",
    "    processed_new_reviews.append(word_to_id[word])\n",
    "\n",
    "processed_data = np.asarray(processed_new_reviews).reshape(1, len(processed_new_reviews))\n",
    "processed_data = sequence.pad_sequences(processed_data, 100)"
   ]
  },
  {
   "cell_type": "code",
   "execution_count": 32,
   "metadata": {
    "_uuid": "d04d746def698f80d397b0af82d69120f31d9f0c",
    "trusted": true
   },
   "outputs": [
    {
     "data": {
      "text/plain": [
       "array([[   0,    0,    0,    0,    0,    0,    0,    0,    0,    0,    0,\n           0,    0,    0,    0,    0,    0,    0,    0,    0,    0,    0,\n           0,    0,    0,    0,    0,    0,    0,    0,    0,    0,    0,\n           0,    0,    0,    0,    0,    0,    0,    0,    0,    0,    0,\n           0,    0,    0,    0,    0,    0,    0,    0,    0,    0,    0,\n           0,    0,    0,    0,    0,    0,    0,    0,    0,    0,    0,\n           0,    0,    0,    0,    0,    0,    0,    0,    0,    0,    0,\n           0,    0,    0,    0,    0,    0,    0,    0,    0,    0,    0,\n           0,    0,    0,    0,    0, 4962, 4984, 4927, 4788, 4997, 4995,\n        4884]], dtype=int32)"
      ]
     },
     "execution_count": 32,
     "metadata": {},
     "output_type": "execute_result"
    }
   ],
   "source": [
    "processed_data"
   ]
  },
  {
   "cell_type": "code",
   "execution_count": 33,
   "metadata": {
    "_uuid": "0702e5f52f8f65ae076ef2d75f060a510777b7ab",
    "trusted": true
   },
   "outputs": [
    {
     "name": "stdout",
     "output_type": "stream",
     "text": [
      "A predição do sentimento para a entrada \"Ótima localização, com vista linda e café da manhã maravilhoso!\" é positivo\n"
     ]
    }
   ],
   "source": [
    "y_pred = model.predict(processed_data)[0]\n",
    "\n",
    "if np.round(y_pred) == 1:\n",
    "    sent = 'positivo'\n",
    "else:\n",
    "    sent = 'negativo'\n",
    "\n",
    "print('A predição do sentimento para a entrada \\\"{}\\\" é {}'.format(new_review, sent))"
   ]
  },
  {
   "cell_type": "code",
   "execution_count": null,
   "metadata": {
    "_uuid": "a0eec7abf27f72ae6e6926809c568ef329295dbe",
    "trusted": false
   },
   "outputs": [],
   "source": [
    "y_pred"
   ]
  },
  {
   "cell_type": "code",
   "execution_count": null,
   "metadata": {
    "_uuid": "8c1f4ae38ee28c3301cbde6f0da3b19e7b537715",
    "trusted": false
   },
   "outputs": [],
   "source": [
    ""
   ]
  },
  {
   "cell_type": "markdown",
   "metadata": {
    "_uuid": "dc488e0cc60e3914f2e8f4e0a670fa5ee9840c6c"
   },
   "source": [
    ""
   ]
  },
  {
   "cell_type": "markdown",
   "metadata": {
    "_uuid": "f2195f5cfcc04af5ee076eb9edb0f47d8133345e"
   },
   "source": [
    ""
   ]
  }
 ],
 "metadata": {
  "kernelspec": {
   "display_name": "Python 3",
   "language": "python",
   "name": "python3"
  },
  "language_info": {
   "name": "python",
   "version": "3.6.6",
   "mimetype": "text/x-python",
   "codemirror_mode": {
    "name": "ipython",
    "version": 3
   },
   "pygments_lexer": "ipython3",
   "nbconvert_exporter": "python",
   "file_extension": ".py"
  }
 },
 "nbformat": 4,
 "nbformat_minor": 1
}
